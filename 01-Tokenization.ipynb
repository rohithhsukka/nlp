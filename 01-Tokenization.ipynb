{
 "cells": [
  {
   "cell_type": "code",
   "execution_count": 1,
   "id": "5579d4b2-8026-4a43-85be-60e518022bea",
   "metadata": {},
   "outputs": [],
   "source": [
    "#pip install nltk"
   ]
  },
  {
   "cell_type": "code",
   "execution_count": 9,
   "id": "21377210-ecb7-454a-9007-65c1f3a9c4b5",
   "metadata": {},
   "outputs": [],
   "source": [
    "corpus = \"\"\"Hello Welcome to my Repository.\n",
    "Please check out my profile for complete details. Thankyou! for taking your valuable time.\n",
    "\"\"\""
   ]
  },
  {
   "cell_type": "code",
   "execution_count": 10,
   "id": "c228b2d1-378e-4755-9979-32965027af47",
   "metadata": {},
   "outputs": [
    {
     "name": "stdout",
     "output_type": "stream",
     "text": [
      "Hello Welcome to my Repository.\n",
      "Please check out my profile for complete details. Thankyou! for taking your valuable time.\n",
      "\n"
     ]
    }
   ],
   "source": [
    "print(corpus)"
   ]
  },
  {
   "cell_type": "code",
   "execution_count": 11,
   "id": "e5339352-899b-432c-8378-7e72ae6be539",
   "metadata": {},
   "outputs": [],
   "source": [
    "## Tokenization \n",
    "## sentence --> paragraphs \n",
    "\n",
    "from nltk.tokenize import sent_tokenize"
   ]
  },
  {
   "cell_type": "code",
   "execution_count": 13,
   "id": "bd1b6830-52bb-47ed-b702-97ad0be35006",
   "metadata": {},
   "outputs": [],
   "source": [
    "documents = sent_tokenize(corpus)"
   ]
  },
  {
   "cell_type": "code",
   "execution_count": 14,
   "id": "2d8477e7-adfc-4cbf-bff3-42729bb62326",
   "metadata": {},
   "outputs": [
    {
     "data": {
      "text/plain": [
       "list"
      ]
     },
     "execution_count": 14,
     "metadata": {},
     "output_type": "execute_result"
    }
   ],
   "source": [
    "type(documents)"
   ]
  },
  {
   "cell_type": "code",
   "execution_count": 15,
   "id": "d0cf6c04-e23b-4ed8-ac86-001d6813ae58",
   "metadata": {},
   "outputs": [
    {
     "name": "stdout",
     "output_type": "stream",
     "text": [
      "Hello Welcome to my Repository.\n",
      "Please check out my profile for complete details.\n",
      "Thankyou!\n",
      "for taking your valuable time.\n"
     ]
    }
   ],
   "source": [
    "for sentence in documents:\n",
    "    print(sentence)"
   ]
  },
  {
   "cell_type": "code",
   "execution_count": 16,
   "id": "efc61d8b-4a72-4900-98c7-148c9ed36312",
   "metadata": {},
   "outputs": [],
   "source": [
    "## Tokenization \n",
    "## paragraph --> Words\n",
    "## sentence --> words \n",
    "from nltk.tokenize import word_tokenize"
   ]
  },
  {
   "cell_type": "code",
   "execution_count": 17,
   "id": "e1270c2c-c2d9-4971-90e3-3d0538700e4e",
   "metadata": {},
   "outputs": [
    {
     "data": {
      "text/plain": [
       "['Hello',\n",
       " 'Welcome',\n",
       " 'to',\n",
       " 'my',\n",
       " 'Repository',\n",
       " '.',\n",
       " 'Please',\n",
       " 'check',\n",
       " 'out',\n",
       " 'my',\n",
       " 'profile',\n",
       " 'for',\n",
       " 'complete',\n",
       " 'details',\n",
       " '.',\n",
       " 'Thankyou',\n",
       " '!',\n",
       " 'for',\n",
       " 'taking',\n",
       " 'your',\n",
       " 'valuable',\n",
       " 'time',\n",
       " '.']"
      ]
     },
     "execution_count": 17,
     "metadata": {},
     "output_type": "execute_result"
    }
   ],
   "source": [
    "word_tokenize(corpus)"
   ]
  },
  {
   "cell_type": "code",
   "execution_count": 18,
   "id": "42e160eb-e013-4d6e-8923-0bc8657b79b8",
   "metadata": {},
   "outputs": [
    {
     "name": "stdout",
     "output_type": "stream",
     "text": [
      "['Hello', 'Welcome', 'to', 'my', 'Repository', '.']\n",
      "['Please', 'check', 'out', 'my', 'profile', 'for', 'complete', 'details', '.']\n",
      "['Thankyou', '!']\n",
      "['for', 'taking', 'your', 'valuable', 'time', '.']\n"
     ]
    }
   ],
   "source": [
    "for sentence in documents:\n",
    "    print(word_tokenize(sentence))"
   ]
  },
  {
   "cell_type": "code",
   "execution_count": 19,
   "id": "aa49e95b-0f1e-41ac-b993-2128f4192407",
   "metadata": {},
   "outputs": [],
   "source": [
    "from nltk.tokenize import wordpunct_tokenize"
   ]
  },
  {
   "cell_type": "code",
   "execution_count": 20,
   "id": "6167a98a-c2a8-40bb-916c-766eb90d04a6",
   "metadata": {},
   "outputs": [
    {
     "data": {
      "text/plain": [
       "['Hello',\n",
       " 'Welcome',\n",
       " 'to',\n",
       " 'my',\n",
       " 'Repository',\n",
       " '.',\n",
       " 'Please',\n",
       " 'check',\n",
       " 'out',\n",
       " 'my',\n",
       " 'profile',\n",
       " 'for',\n",
       " 'complete',\n",
       " 'details',\n",
       " '.',\n",
       " 'Thankyou',\n",
       " '!',\n",
       " 'for',\n",
       " 'taking',\n",
       " 'your',\n",
       " 'valuable',\n",
       " 'time',\n",
       " '.']"
      ]
     },
     "execution_count": 20,
     "metadata": {},
     "output_type": "execute_result"
    }
   ],
   "source": [
    "wordpunct_tokenize(corpus)"
   ]
  },
  {
   "cell_type": "code",
   "execution_count": 22,
   "id": "348bc978-2d2e-42ab-bbbb-390a81f03b62",
   "metadata": {},
   "outputs": [],
   "source": [
    "from nltk.tokenize import TreebankWordTokenizer"
   ]
  },
  {
   "cell_type": "code",
   "execution_count": 23,
   "id": "ac58f2d0-9477-4a09-ae2f-06087dff2483",
   "metadata": {},
   "outputs": [],
   "source": [
    "tokenizer = TreebankWordTokenizer()"
   ]
  },
  {
   "cell_type": "code",
   "execution_count": 24,
   "id": "5a1a8f95-9e2b-4353-861d-398635502263",
   "metadata": {},
   "outputs": [
    {
     "data": {
      "text/plain": [
       "['Hello',\n",
       " 'Welcome',\n",
       " 'to',\n",
       " 'my',\n",
       " 'Repository.',\n",
       " 'Please',\n",
       " 'check',\n",
       " 'out',\n",
       " 'my',\n",
       " 'profile',\n",
       " 'for',\n",
       " 'complete',\n",
       " 'details.',\n",
       " 'Thankyou',\n",
       " '!',\n",
       " 'for',\n",
       " 'taking',\n",
       " 'your',\n",
       " 'valuable',\n",
       " 'time',\n",
       " '.']"
      ]
     },
     "execution_count": 24,
     "metadata": {},
     "output_type": "execute_result"
    }
   ],
   "source": [
    "tokenizer.tokenize(corpus)"
   ]
  },
  {
   "cell_type": "code",
   "execution_count": null,
   "id": "040a72be-e5c3-436d-bb7e-27db05ec29e6",
   "metadata": {},
   "outputs": [],
   "source": []
  }
 ],
 "metadata": {
  "kernelspec": {
   "display_name": "Python 3 (ipykernel)",
   "language": "python",
   "name": "python3"
  },
  "language_info": {
   "codemirror_mode": {
    "name": "ipython",
    "version": 3
   },
   "file_extension": ".py",
   "mimetype": "text/x-python",
   "name": "python",
   "nbconvert_exporter": "python",
   "pygments_lexer": "ipython3",
   "version": "3.12.3"
  }
 },
 "nbformat": 4,
 "nbformat_minor": 5
}
